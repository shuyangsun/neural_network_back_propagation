{
 "cells": [
  {
   "cell_type": "markdown",
   "metadata": {},
   "source": [
    "## Imports"
   ]
  },
  {
   "cell_type": "code",
   "execution_count": 9,
   "metadata": {
    "collapsed": false
   },
   "outputs": [],
   "source": [
    "import neural_network as nn\n",
    "import scipy.io\n",
    "import numpy as np\n",
    "\n",
    "%matplotlib inline"
   ]
  },
  {
   "cell_type": "markdown",
   "metadata": {},
   "source": [
    "## Load and process training samples."
   ]
  },
  {
   "cell_type": "code",
   "execution_count": 10,
   "metadata": {
    "collapsed": true
   },
   "outputs": [],
   "source": [
    "mat_data = scipy.io.loadmat('digits_data/hand_written_digits.mat')\n",
    "X = mat_data['X']\n",
    "y = mat_data['y']\n",
    "augmented_matrix = np.append(X, y, axis=1)\n",
    "np.random.shuffle(augmented_matrix)\n",
    "X = augmented_matrix[:, :-1]\n",
    "y = augmented_matrix[:, -1]"
   ]
  },
  {
   "cell_type": "markdown",
   "metadata": {},
   "source": [
    "## Setup trainer"
   ]
  },
  {
   "cell_type": "code",
   "execution_count": null,
   "metadata": {
    "collapsed": false
   },
   "outputs": [],
   "source": [
    "# Learning rate\n",
    "alpha = 0.3\n",
    "# Regularization\n",
    "lamb = 10\n",
    "# Random Theta rang\n",
    "EPSILON_INIT = 0\n",
    "\n",
    "digits_nn = nn.NeuralNetwork(X, y, alpha, lamb, EPSILON_INIT, 25)"
   ]
  },
  {
   "cell_type": "markdown",
   "metadata": {},
   "source": [
    "## Start training"
   ]
  },
  {
   "cell_type": "code",
   "execution_count": null,
   "metadata": {
    "collapsed": false,
    "scrolled": true
   },
   "outputs": [
    {
     "name": "stdout",
     "output_type": "stream",
     "text": [
      "Started training...\n",
      "Started gradient checking...\n",
      "Checking 100 randomly selected thetas...\n",
      "Gradient check passed.\n",
      "Used 1.26s for gradient checking.\n",
      "--------------------------------------------------\n",
      "Iter: 1, duration: 1.65s, J_train(θ): 8.546662772191787, J_cv(θ): 4.733445316596862, test set accuracy: 20.20%\n",
      "Iter: 2000, duration: 618.55s, J_train(θ): 0.4160594482421875, J_cv(θ): 1.9476784677625498, test set accuracy: 90.40%\n",
      "Iter: 4000, duration: 1229.81s, J_train(θ): 0.39860017903645834, J_cv(θ): 1.9999594743419005, test set accuracy: 90.10%\n",
      "Iter: 6000, duration: 1836.94s, J_train(θ): 0.39222465006510415, J_cv(θ): 2.026940863336786, test set accuracy: 90.20%\n",
      "Iter: 8000, duration: 2445.51s, J_train(θ): 0.3884137776692708, J_cv(θ): 2.041803163972325, test set accuracy: 90.20%\n",
      "Iter: 10000, duration: 3053.03s, J_train(θ): 0.38584098307291664, J_cv(θ): 2.0492862237530907, test set accuracy: 90.10%\n",
      "Iter: 12000, duration: 3666.05s, J_train(θ): 0.38389949544270835, J_cv(θ): 2.0574097272193086, test set accuracy: 90.10%\n",
      "Iter: 14000, duration: 4319.63s, J_train(θ): 0.38239249674479164, J_cv(θ): 2.068662206749604, test set accuracy: 90.10%\n"
     ]
    }
   ],
   "source": [
    "digits_nn.train(iter_limit=0, time_limit=3600 * 6, grad_check=True, info_print_frequency=2000, save_to_file=False)"
   ]
  },
  {
   "cell_type": "markdown",
   "metadata": {},
   "source": [
    "## Print an example of prediction."
   ]
  },
  {
   "cell_type": "code",
   "execution_count": null,
   "metadata": {
    "collapsed": false
   },
   "outputs": [],
   "source": [
    "num_to_predict = 20\n",
    "print('Expected:')\n",
    "for ele in y[-num_to_predict:]:\n",
    "    print('{0:2}'.format(int(ele)), end=' ')\n",
    "print()\n",
    "print('Prediction:')\n",
    "for ele in digits_nn.predict(np.matrix(X[-num_to_predict:]))[0]:\n",
    "    print('{0:2}'.format(int(ele)), end=' ')"
   ]
  },
  {
   "cell_type": "markdown",
   "metadata": {},
   "source": [
    "## Plot cost and accuracy graph."
   ]
  },
  {
   "cell_type": "code",
   "execution_count": null,
   "metadata": {
    "collapsed": false
   },
   "outputs": [],
   "source": [
    "digits_nn.plot_training_info()\n",
    "digits_nn.show_plot()"
   ]
  },
  {
   "cell_type": "markdown",
   "metadata": {},
   "source": [
    "## Visualize Theta"
   ]
  },
  {
   "cell_type": "code",
   "execution_count": null,
   "metadata": {
    "collapsed": false,
    "scrolled": false
   },
   "outputs": [],
   "source": [
    "digits_nn.visualize_Theta(cmap='Greys_r')\n",
    "digits_nn.show_plot()"
   ]
  },
  {
   "cell_type": "code",
   "execution_count": null,
   "metadata": {
    "collapsed": true
   },
   "outputs": [],
   "source": []
  }
 ],
 "metadata": {
  "kernelspec": {
   "display_name": "Python 3",
   "language": "python",
   "name": "python3"
  },
  "language_info": {
   "codemirror_mode": {
    "name": "ipython",
    "version": 3
   },
   "file_extension": ".py",
   "mimetype": "text/x-python",
   "name": "python",
   "nbconvert_exporter": "python",
   "pygments_lexer": "ipython3",
   "version": "3.5.2"
  }
 },
 "nbformat": 4,
 "nbformat_minor": 0
}
