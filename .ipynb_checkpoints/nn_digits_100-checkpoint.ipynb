{
 "cells": [
  {
   "cell_type": "markdown",
   "metadata": {},
   "source": [
    "## Imports"
   ]
  },
  {
   "cell_type": "code",
   "execution_count": 5,
   "metadata": {
    "collapsed": false
   },
   "outputs": [],
   "source": [
    "import neural_network as nn\n",
    "import scipy.io\n",
    "import numpy as np\n",
    "\n",
    "%matplotlib inline"
   ]
  },
  {
   "cell_type": "markdown",
   "metadata": {},
   "source": [
    "## Load and process training samples."
   ]
  },
  {
   "cell_type": "code",
   "execution_count": 6,
   "metadata": {
    "collapsed": true
   },
   "outputs": [],
   "source": [
    "mat_data = scipy.io.loadmat('digits_data/hand_written_digits.mat')\n",
    "X = mat_data['X']\n",
    "y = mat_data['y']\n",
    "augmented_matrix = np.append(X, y, axis=1)\n",
    "np.random.shuffle(augmented_matrix)\n",
    "X = augmented_matrix[:, :-1]\n",
    "y = augmented_matrix[:, -1]"
   ]
  },
  {
   "cell_type": "markdown",
   "metadata": {},
   "source": [
    "## Setup trainer"
   ]
  },
  {
   "cell_type": "code",
   "execution_count": null,
   "metadata": {
    "collapsed": false
   },
   "outputs": [],
   "source": [
    "# Learning rate\n",
    "alpha = 0.3\n",
    "# Regularization\n",
    "lamb = 50\n",
    "# Random Theta rang\n",
    "EPSILON_INIT = 0\n",
    "\n",
    "digits_nn = nn.NeuralNetwork(X, y, alpha, lamb, EPSILON_INIT, 100)"
   ]
  },
  {
   "cell_type": "markdown",
   "metadata": {},
   "source": [
    "## Start training"
   ]
  },
  {
   "cell_type": "code",
   "execution_count": null,
   "metadata": {
    "collapsed": false,
    "scrolled": true
   },
   "outputs": [
    {
     "name": "stdout",
     "output_type": "stream",
     "text": [
      "Started training...\n",
      "Started gradient checking...\n",
      "Checking 100 randomly selected thetas...\n",
      "Gradient check passed.\n",
      "Used 2.77s for gradient checking.\n",
      "--------------------------------------------------\n",
      "Iter: 1, duration: 4.14s, J_train(θ): 8.0177094703186, J_cv(θ): 3.5979177727851113, test set accuracy: 16.80%\n",
      "Iter: 500, duration: 471.28s, J_train(θ): 0.86789111328125, J_cv(θ): 2.4201265096234423, test set accuracy: 89.30%\n",
      "Iter: 1000, duration: 936.19s, J_train(θ): 0.8512605794270833, J_cv(θ): 2.4320426510339406, test set accuracy: 89.40%\n",
      "Iter: 1500, duration: 1398.23s, J_train(θ): 0.8451045735677083, J_cv(θ): 2.4392767850120936, test set accuracy: 89.40%\n",
      "Iter: 2000, duration: 1860.52s, J_train(θ): 0.8413595377604167, J_cv(θ): 2.444387937604291, test set accuracy: 89.60%\n",
      "Iter: 2500, duration: 2323.34s, J_train(θ): 0.8387108561197917, J_cv(θ): 2.449126947664256, test set accuracy: 89.70%\n",
      "Iter: 3000, duration: 2786.40s, J_train(θ): 0.8366295572916667, J_cv(θ): 2.4537266422119175, test set accuracy: 89.70%\n",
      "Iter: 3500, duration: 3247.42s, J_train(θ): 0.835114501953125, J_cv(θ): 2.4577290896389683, test set accuracy: 89.80%\n",
      "Iter: 4000, duration: 3720.87s, J_train(θ): 0.8339580078125, J_cv(θ): 2.461010539540357, test set accuracy: 89.70%\n",
      "Iter: 4500, duration: 4217.78s, J_train(θ): 0.83299658203125, J_cv(θ): 2.463786416898559, test set accuracy: 89.60%\n"
     ]
    }
   ],
   "source": [
    "digits_nn.train(iter_limit=0, time_limit=3600 * 6, grad_check=True, info_print_frequency=500, save_to_file=False)"
   ]
  },
  {
   "cell_type": "markdown",
   "metadata": {},
   "source": [
    "## Print an example of prediction."
   ]
  },
  {
   "cell_type": "code",
   "execution_count": null,
   "metadata": {
    "collapsed": false
   },
   "outputs": [],
   "source": [
    "num_to_predict = 20\n",
    "print('Expected:')\n",
    "for ele in y[-num_to_predict:]:\n",
    "    print('{0:2}'.format(int(ele)), end=' ')\n",
    "print()\n",
    "print('Prediction:')\n",
    "for ele in digits_nn.predict(np.matrix(X[-num_to_predict:]))[0]:\n",
    "    print('{0:2}'.format(int(ele)), end=' ')"
   ]
  },
  {
   "cell_type": "markdown",
   "metadata": {},
   "source": [
    "## Plot cost and accuracy graph."
   ]
  },
  {
   "cell_type": "code",
   "execution_count": null,
   "metadata": {
    "collapsed": false
   },
   "outputs": [],
   "source": [
    "digits_nn.plot_training_info()\n",
    "digits_nn.show_plot()"
   ]
  },
  {
   "cell_type": "markdown",
   "metadata": {},
   "source": [
    "## Visualize Theta"
   ]
  },
  {
   "cell_type": "code",
   "execution_count": null,
   "metadata": {
    "collapsed": false,
    "scrolled": false
   },
   "outputs": [],
   "source": [
    "digits_nn.visualize_Theta(cmap='Greys_r')\n",
    "digits_nn.show_plot()"
   ]
  },
  {
   "cell_type": "code",
   "execution_count": null,
   "metadata": {
    "collapsed": true
   },
   "outputs": [],
   "source": []
  }
 ],
 "metadata": {
  "kernelspec": {
   "display_name": "Python 3",
   "language": "python",
   "name": "python3"
  },
  "language_info": {
   "codemirror_mode": {
    "name": "ipython",
    "version": 3
   },
   "file_extension": ".py",
   "mimetype": "text/x-python",
   "name": "python",
   "nbconvert_exporter": "python",
   "pygments_lexer": "ipython3",
   "version": "3.5.2"
  }
 },
 "nbformat": 4,
 "nbformat_minor": 0
}
